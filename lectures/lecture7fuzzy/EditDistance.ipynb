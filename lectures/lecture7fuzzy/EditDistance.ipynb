{
 "cells": [
  {
   "cell_type": "markdown",
   "metadata": {},
   "source": [
    "# Edit Distance"
   ]
  },
  {
   "cell_type": "code",
   "execution_count": 1,
   "metadata": {
    "collapsed": false
   },
   "outputs": [],
   "source": [
    "%load_ext autoreload\n",
    "%autoreload 2"
   ]
  },
  {
   "cell_type": "code",
   "execution_count": 2,
   "metadata": {
    "collapsed": true
   },
   "outputs": [],
   "source": [
    "def print_matrix(m):\n",
    "    for i, row in enumerate(m):\n",
    "        print ', '.join(map(str, row))"
   ]
  },
  {
   "cell_type": "code",
   "execution_count": 3,
   "metadata": {
    "collapsed": true
   },
   "outputs": [],
   "source": [
    "def edit_distance_matrix(s, t):\n",
    "\n",
    "    # add a special \"start\" character to beginning of each string\n",
    "    s = '_' + s\n",
    "    t = '_' + t\n",
    "\n",
    "    d = [ [None] * len(t) for i in range(len(s)) ]\n",
    "    \n",
    "    for i in range(len(s)):\n",
    "        d[i][0] = i\n",
    "    for j in range(len(t)):\n",
    "        d[0][j] = j\n",
    "\n",
    "    for i in range(1, len(s)):\n",
    "        for j in range(1, len(t)):\n",
    "\n",
    "            # sub/copy: s[i] is \"replaced\" with t[j] if s[i] == t[j], this is \n",
    "            #           simply copying over s[i] and adds no cost\n",
    "            if s[i] == t[j]:\n",
    "                cost_sub = d[i-1][j-1] + 0\n",
    "            else:\n",
    "                cost_sub = d[i-1][j-1] + 1\n",
    "\n",
    "            # insert: t[j] is inserted at end of s[:i].  the cost is\n",
    "            #         cost of insert + cost of transforming s[:i] to t[:j-1]\n",
    "            cost_insert = 1 + d[i][j-1]\n",
    "\n",
    "            # delete: s[i] is deleted at end of s[:i].  the cost is\n",
    "            #         cost of delete + cost of transforming s[:i-1] to t[:j]\n",
    "            cost_delete = 1 + d[i-1][j]\n",
    "\n",
    "            d[i][j] = min(cost_sub, cost_insert, cost_delete)\n",
    "\n",
    "    return d\n"
   ]
  },
  {
   "cell_type": "markdown",
   "metadata": {},
   "source": [
    "Here is an application of the above code to several examples.  Note cell 0,0 is always zero because the first edit command is always to copy the special start symbol that is prepended to both strings.  "
   ]
  },
  {
   "cell_type": "code",
   "execution_count": 4,
   "metadata": {
    "collapsed": false
   },
   "outputs": [
    {
     "name": "stdout",
     "output_type": "stream",
     "text": [
      "0, 1, 2, 3\n",
      "1, 1, 2, 3\n",
      "2, 2, 2, 3\n",
      "3, 3, 3, 3\n",
      "4, 3, 4, 4\n",
      "5, 4, 3, 4\n",
      "6, 5, 4, 3\n"
     ]
    }
   ],
   "source": [
    "print_matrix(edit_distance_matrix('xyzABC', 'ABC'))  # del,del,del,copy,copy,copy"
   ]
  },
  {
   "cell_type": "code",
   "execution_count": 5,
   "metadata": {
    "collapsed": false
   },
   "outputs": [
    {
     "name": "stdout",
     "output_type": "stream",
     "text": [
      "0, 1, 2, 3, 4, 5, 6\n",
      "1, 0, 1, 2, 3, 4, 5\n",
      "2, 1, 0, 1, 2, 3, 4\n",
      "3, 2, 1, 0, 1, 2, 3\n"
     ]
    }
   ],
   "source": [
    "print_matrix(edit_distance_matrix('ABC', 'ABCxyz'))  # copy,copy,copy,ins,ins,ins"
   ]
  },
  {
   "cell_type": "code",
   "execution_count": 6,
   "metadata": {
    "collapsed": false
   },
   "outputs": [
    {
     "name": "stdout",
     "output_type": "stream",
     "text": [
      "0, 1, 2, 3\n",
      "1, 1, 1, 2\n",
      "2, 2, 2, 1\n",
      "3, 3, 3, 2\n"
     ]
    }
   ],
   "source": [
    "print_matrix(edit_distance_matrix('BCD', 'ABC'))     # ins, copy, copy, del"
   ]
  },
  {
   "cell_type": "markdown",
   "metadata": {
    "collapsed": true
   },
   "source": [
    "Try out your own examples, below:"
   ]
  },
  {
   "cell_type": "code",
   "execution_count": null,
   "metadata": {
    "collapsed": true
   },
   "outputs": [],
   "source": []
  }
 ],
 "metadata": {
  "kernelspec": {
   "display_name": "Python 2",
   "language": "python",
   "name": "python2"
  },
  "language_info": {
   "codemirror_mode": {
    "name": "ipython",
    "version": 2
   },
   "file_extension": ".py",
   "mimetype": "text/x-python",
   "name": "python",
   "nbconvert_exporter": "python",
   "pygments_lexer": "ipython2",
   "version": "2.7.12"
  }
 },
 "nbformat": 4,
 "nbformat_minor": 2
}
