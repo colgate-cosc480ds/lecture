{
 "cells": [
  {
   "cell_type": "markdown",
   "metadata": {},
   "source": [
    "# Hypothesis testing"
   ]
  },
  {
   "cell_type": "code",
   "execution_count": 115,
   "metadata": {
    "collapsed": false
   },
   "outputs": [],
   "source": [
    "import sys\n",
    "sys.path.append('/vagrant/data-science-from-scratch/code/')   # code from DSFS book's git repo cloned here\n",
    "import working_with_data as wwd   # module from data science from scratch"
   ]
  },
  {
   "cell_type": "code",
   "execution_count": 116,
   "metadata": {
    "collapsed": true
   },
   "outputs": [],
   "source": [
    "import random\n",
    "\n",
    "def flip_coin(theta):\n",
    "    return 1.0 if random.random() <= theta else 0.0\n",
    "\n",
    "def sample_coins(theta=0.5, n=100):\n",
    "    return [flip_coin(theta) for _ in range(n)]"
   ]
  },
  {
   "cell_type": "code",
   "execution_count": 118,
   "metadata": {
    "collapsed": false
   },
   "outputs": [],
   "source": [
    "theta = 0.5\n",
    "n = 100\n",
    "simulations = 10000\n",
    "samples = [sum(sample_coins(theta, n)) for _ in range(simulations)]"
   ]
  },
  {
   "cell_type": "code",
   "execution_count": 119,
   "metadata": {
    "collapsed": false
   },
   "outputs": [
    {
     "data": {
      "image/png": "[encoded data removed]",
      "text/plain": [
       "<matplotlib.figure.Figure at 0x7f0836615250>"
      ]
     },
     "metadata": {},
     "output_type": "display_data"
    }
   ],
   "source": [
    "wwd.plot_histogram(samples, 1)"
   ]
  },
  {
   "cell_type": "markdown",
   "metadata": {},
   "source": [
    "## Hypothesis test for fair coin"
   ]
  },
  {
   "cell_type": "code",
   "execution_count": 120,
   "metadata": {
    "collapsed": true
   },
   "outputs": [],
   "source": [
    "def coin_test_statistic(xs):\n",
    "    prop_ones = float(sum(xs)) / len(xs)\n",
    "    return abs(prop_ones - 1./2)\n",
    "\n",
    "def threshold_test(xs, test_statistic, c):\n",
    "    \"\"\"Returns True if test rejects the null hypothesis, i.e., test_statistic > c\"\"\"\n",
    "    return test_statistic(xs) > c\n",
    "\n",
    "def coin_test(xs, c=0.10):\n",
    "    \"\"\"Returns True if null hypothesis is rejected\"\"\"\n",
    "    return threshold_test(xs, coin_test_statistic, c)"
   ]
  },
  {
   "cell_type": "code",
   "execution_count": 122,
   "metadata": {
    "collapsed": false
   },
   "outputs": [
    {
     "name": "stdout",
     "output_type": "stream",
     "text": [
      "Test statistic 0.07\n",
      "Is null rejected? True\n"
     ]
    }
   ],
   "source": [
    "xs = sample_coins(theta=0.5, n=100)\n",
    "print \"Test statistic\", coin_test_statistic(xs)\n",
    "print \"Is null rejected?\", coin_test(xs, c=0.05)"
   ]
  },
  {
   "cell_type": "markdown",
   "metadata": {},
   "source": [
    "## Power of test"
   ]
  },
  {
   "cell_type": "code",
   "execution_count": null,
   "metadata": {
    "collapsed": false
   },
   "outputs": [],
   "source": [
    "def power_coin_test(theta, c=0.10):\n",
    "    \"\"\"Probability that the test will reject the null hypothesis when the true probability \n",
    "    of heads is theta.\"\"\"\n",
    "    n = 100\n",
    "    simulations = 10000\n",
    "    rejections = sum(coin_test(xs=sample_coins(theta, n), c=c) \n",
    "                     for _ in range(simulations))\n",
    "    return float(rejections) / simulations"
   ]
  },
  {
   "cell_type": "markdown",
   "metadata": {},
   "source": [
    "What is probability we reject null when the coin actually has $\\theta = 0.7$?"
   ]
  },
  {
   "cell_type": "code",
   "execution_count": 124,
   "metadata": {
    "collapsed": false
   },
   "outputs": [
    {
     "name": "stdout",
     "output_type": "stream",
     "text": [
      "0.3191\n"
     ]
    }
   ],
   "source": [
    "print power_coin_test(theta=0.5, c=0.05)"
   ]
  },
  {
   "cell_type": "markdown",
   "metadata": {},
   "source": [
    "## Figuring out $\\alpha$"
   ]
  },
  {
   "cell_type": "markdown",
   "metadata": {},
   "source": [
    "The worst-case $\\theta \\in \\Theta_0$ is either $\\theta = 0.45$ or $\\theta = 0.55$.  So what is $\\alpha$?"
   ]
  },
  {
   "cell_type": "code",
   "execution_count": 131,
   "metadata": {
    "collapsed": false
   },
   "outputs": [
    {
     "name": "stdout",
     "output_type": "stream",
     "text": [
      "Alpha is 0.0391\n"
     ]
    }
   ],
   "source": [
    "print \"Alpha is\", power_coin_test(theta=0.55, c=0.13)"
   ]
  },
  {
   "cell_type": "markdown",
   "metadata": {},
   "source": [
    "## P-Values"
   ]
  },
  {
   "cell_type": "code",
   "execution_count": 132,
   "metadata": {
    "collapsed": true
   },
   "outputs": [],
   "source": [
    "def p_value_coin(xs):\n",
    "    tx = coin_test_statistic(xs)\n",
    "    return power_coin_test(theta=0.55, c=tx)"
   ]
  },
  {
   "cell_type": "code",
   "execution_count": 133,
   "metadata": {
    "collapsed": false,
    "scrolled": false
   },
   "outputs": [
    {
     "name": "stdout",
     "output_type": "stream",
     "text": [
      "I flipped coin 100 times and observed 69.0 heads.\n",
      "At what p-value can I reject the null? 0.0017\n"
     ]
    }
   ],
   "source": [
    "theta = 0.65\n",
    "n = 100\n",
    "xs = sample_coins(theta, n=100)\n",
    "print \"I flipped coin\", n, \"times and observed\", sum(xs), \"heads.\"\n",
    "print \"At what p-value can I reject the null?\", p_value_coin(xs)"
   ]
  },
  {
   "cell_type": "code",
   "execution_count": null,
   "metadata": {
    "collapsed": true
   },
   "outputs": [],
   "source": []
  }
 ],
 "metadata": {
  "kernelspec": {
   "display_name": "Python 2",
   "language": "python",
   "name": "python2"
  },
  "language_info": {
   "codemirror_mode": {
    "name": "ipython",
    "version": 2
   },
   "file_extension": ".py",
   "mimetype": "text/x-python",
   "name": "python",
   "nbconvert_exporter": "python",
   "pygments_lexer": "ipython2",
   "version": "2.7.12"
  }
 },
 "nbformat": 4,
 "nbformat_minor": 2
}
